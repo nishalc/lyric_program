{
 "cells": [
  {
   "cell_type": "code",
   "execution_count": 175,
   "metadata": {},
   "outputs": [
    {
     "name": "stdout",
     "output_type": "stream",
     "text": [
      "The autoreload extension is already loaded. To reload it, use:\n",
      "  %reload_ext autoreload\n"
     ]
    }
   ],
   "source": [
    "%load_ext autoreload\n",
    "%autoreload 2\n",
    "from functions import *"
   ]
  },
  {
   "cell_type": "code",
   "execution_count": 164,
   "metadata": {},
   "outputs": [],
   "source": [
    "test_song = 'https://www.azlyrics.com/lyrics/kanyewest/power.html'\n",
    "test_artist = 'https://www.azlyrics.com/k/killers.html'\n",
    "base_dir = Path(u\"C:/lyric_data\")"
   ]
  },
  {
   "cell_type": "markdown",
   "metadata": {},
   "source": [
    "## testing"
   ]
  },
  {
   "cell_type": "markdown",
   "metadata": {},
   "source": [
    "### single song extraction"
   ]
  },
  {
   "cell_type": "code",
   "execution_count": 5,
   "metadata": {},
   "outputs": [],
   "source": [
    "soup_test = url_to_soup(test_song)\n",
    "lyrics_raw = soup_to_lyrics(soup_test)\n",
    "lyrics_tokens = lyrics_raw_to_tokens(lyrics_raw)"
   ]
  },
  {
   "cell_type": "code",
   "execution_count": null,
   "metadata": {},
   "outputs": [],
   "source": [
    "soup_to_lyric_file(soup_test)"
   ]
  },
  {
   "cell_type": "markdown",
   "metadata": {},
   "source": [
    "### artist extraction\n"
   ]
  },
  {
   "cell_type": "code",
   "execution_count": 204,
   "metadata": {},
   "outputs": [
    {
     "name": "stdout",
     "output_type": "stream",
     "text": [
      "Attempting https://www.azlyrics.com/lyrics/justinbieber/onetime.html\n",
      "Scraped 1 of 240 and waiting\n",
      "Attempting https://www.azlyrics.com/lyrics/justinbieber/favoritegirl.html\n",
      "Scraped 2 of 240 and waiting\n",
      "Attempting https://www.azlyrics.com/lyrics/justinbieber/downtoearth.html\n",
      "Scraped 3 of 240 and waiting\n",
      "Attempting https://www.azlyrics.com/lyrics/justinbieber/bigger.html\n",
      "Scraped 4 of 240 and waiting\n",
      "Attempting https://www.azlyrics.com/lyrics/justinbieber/onelesslonelygirl.html\n",
      "Scraped 5 of 240 and waiting\n",
      "Attempting https://www.azlyrics.com/lyrics/justinbieber/firstdance.html\n",
      "Scraped 6 of 240 and waiting\n",
      "Attempting https://www.azlyrics.com/lyrics/justinbieber/loveme.html\n",
      "Scraped 7 of 240 and waiting\n",
      "Attempting https://www.azlyrics.com/lyrics/justinbieber/commondenominator.html\n",
      "Scraped 8 of 240 and waiting\n",
      "Attempting https://www.azlyrics.com/lyrics/justinbieber/onelesslonelygirlfrenchadaptation.html\n"
     ]
    },
    {
     "ename": "IndexError",
     "evalue": "list index out of range",
     "output_type": "error",
     "traceback": [
      "\u001b[1;31m---------------------------------------------------------------------------\u001b[0m",
      "\u001b[1;31mIndexError\u001b[0m                                Traceback (most recent call last)",
      "\u001b[1;32mc:\\Users\\Nisha\\OneDrive\\Python\\Lyric matching program\\development.ipynb Cell 8'\u001b[0m in \u001b[0;36m<cell line: 1>\u001b[1;34m()\u001b[0m\n\u001b[1;32m----> <a href='vscode-notebook-cell:/c%3A/Users/Nisha/OneDrive/Python/Lyric%20matching%20program/development.ipynb#ch0000040?line=0'>1</a>\u001b[0m scrape_artist(\u001b[39m\"\u001b[39;49m\u001b[39mhttps://www.azlyrics.com/j/justinbieber.html\u001b[39;49m\u001b[39m\"\u001b[39;49m, base_dir)\n",
      "File \u001b[1;32mc:\\Users\\Nisha\\OneDrive\\Python\\Lyric matching program\\functions.py:93\u001b[0m, in \u001b[0;36mscrape_artist\u001b[1;34m(artist_url, base_dir, start_indice)\u001b[0m\n\u001b[0;32m     <a href='file:///c%3A/Users/Nisha/OneDrive/Python/Lyric%20matching%20program/functions.py?line=90'>91</a>\u001b[0m \u001b[39mwhile\u001b[39;00m \u001b[39mTrue\u001b[39;00m:\n\u001b[0;32m     <a href='file:///c%3A/Users/Nisha/OneDrive/Python/Lyric%20matching%20program/functions.py?line=91'>92</a>\u001b[0m     \u001b[39mtry\u001b[39;00m:\n\u001b[1;32m---> <a href='file:///c%3A/Users/Nisha/OneDrive/Python/Lyric%20matching%20program/functions.py?line=92'>93</a>\u001b[0m         soup_to_lyric_file(url_to_soup(x), base_dir)\n\u001b[0;32m     <a href='file:///c%3A/Users/Nisha/OneDrive/Python/Lyric%20matching%20program/functions.py?line=93'>94</a>\u001b[0m         sleep_time \u001b[39m=\u001b[39m \u001b[39m1\u001b[39m\u001b[39m#random.randint(1,30)\u001b[39;00m\n\u001b[0;32m     <a href='file:///c%3A/Users/Nisha/OneDrive/Python/Lyric%20matching%20program/functions.py?line=94'>95</a>\u001b[0m         time\u001b[39m.\u001b[39msleep(sleep_time)\n",
      "File \u001b[1;32mc:\\Users\\Nisha\\OneDrive\\Python\\Lyric matching program\\functions.py:56\u001b[0m, in \u001b[0;36msoup_to_lyric_file\u001b[1;34m(soup, base_dir)\u001b[0m\n\u001b[0;32m     <a href='file:///c%3A/Users/Nisha/OneDrive/Python/Lyric%20matching%20program/functions.py?line=54'>55</a>\u001b[0m \u001b[39mdef\u001b[39;00m \u001b[39msoup_to_lyric_file\u001b[39m(soup, base_dir):\n\u001b[1;32m---> <a href='file:///c%3A/Users/Nisha/OneDrive/Python/Lyric%20matching%20program/functions.py?line=55'>56</a>\u001b[0m     lyrics_raw \u001b[39m=\u001b[39m soup_to_lyrics(soup)\n\u001b[0;32m     <a href='file:///c%3A/Users/Nisha/OneDrive/Python/Lyric%20matching%20program/functions.py?line=56'>57</a>\u001b[0m     artist, album, title \u001b[39m=\u001b[39m soup_to_metadata(soup)\n\u001b[0;32m     <a href='file:///c%3A/Users/Nisha/OneDrive/Python/Lyric%20matching%20program/functions.py?line=58'>59</a>\u001b[0m     directory \u001b[39m=\u001b[39m Path(base_dir) \u001b[39m/\u001b[39m artist \u001b[39m/\u001b[39m album\n",
      "File \u001b[1;32mc:\\Users\\Nisha\\OneDrive\\Python\\Lyric matching program\\functions.py:26\u001b[0m, in \u001b[0;36msoup_to_lyrics\u001b[1;34m(soup)\u001b[0m\n\u001b[0;32m     <a href='file:///c%3A/Users/Nisha/OneDrive/Python/Lyric%20matching%20program/functions.py?line=23'>24</a>\u001b[0m \u001b[39mdef\u001b[39;00m \u001b[39msoup_to_lyrics\u001b[39m(soup):\n\u001b[0;32m     <a href='file:///c%3A/Users/Nisha/OneDrive/Python/Lyric%20matching%20program/functions.py?line=24'>25</a>\u001b[0m     lyrics_html \u001b[39m=\u001b[39m (soup\u001b[39m.\u001b[39mfind_all(\u001b[39m'\u001b[39m\u001b[39mdiv\u001b[39m\u001b[39m'\u001b[39m, class_\u001b[39m=\u001b[39m\u001b[39m'\u001b[39m\u001b[39m'\u001b[39m))\n\u001b[1;32m---> <a href='file:///c%3A/Users/Nisha/OneDrive/Python/Lyric%20matching%20program/functions.py?line=25'>26</a>\u001b[0m     lyrics_raw \u001b[39m=\u001b[39m lyrics_html[\u001b[39m4\u001b[39;49m]\u001b[39m.\u001b[39mget_text()\u001b[39m.\u001b[39mlower()\n\u001b[0;32m     <a href='file:///c%3A/Users/Nisha/OneDrive/Python/Lyric%20matching%20program/functions.py?line=26'>27</a>\u001b[0m     \u001b[39m# gets rid of anything in brackets, because they are markers that say who is singing\u001b[39;00m\n\u001b[0;32m     <a href='file:///c%3A/Users/Nisha/OneDrive/Python/Lyric%20matching%20program/functions.py?line=27'>28</a>\u001b[0m     lyrics_raw \u001b[39m=\u001b[39m re\u001b[39m.\u001b[39msub(\u001b[39m\"\u001b[39m\u001b[39m[\u001b[39m\u001b[39m\\\u001b[39m\u001b[39m(\u001b[39m\u001b[39m\\\u001b[39m\u001b[39m[].*?[\u001b[39m\u001b[39m\\\u001b[39m\u001b[39m)\u001b[39m\u001b[39m\\\u001b[39m\u001b[39m]]\u001b[39m\u001b[39m\"\u001b[39m, \u001b[39m\"\u001b[39m\u001b[39m\"\u001b[39m, lyrics_raw) \n",
      "\u001b[1;31mIndexError\u001b[0m: list index out of range"
     ]
    }
   ],
   "source": [
    "scrape_artist(\"https://www.azlyrics.com/j/justinbieber.html\", base_dir)"
   ]
  },
  {
   "cell_type": "code",
   "execution_count": null,
   "metadata": {},
   "outputs": [],
   "source": []
  }
 ],
 "metadata": {
  "interpreter": {
   "hash": "b89b5cfaba6639976dc87ff2fec6d58faec662063367e2c229c520fe71072417"
  },
  "kernelspec": {
   "display_name": "Python 3.10.4 64-bit",
   "language": "python",
   "name": "python3"
  },
  "language_info": {
   "codemirror_mode": {
    "name": "ipython",
    "version": 3
   },
   "file_extension": ".py",
   "mimetype": "text/x-python",
   "name": "python",
   "nbconvert_exporter": "python",
   "pygments_lexer": "ipython3",
   "version": "3.10.4"
  },
  "orig_nbformat": 4
 },
 "nbformat": 4,
 "nbformat_minor": 2
}
