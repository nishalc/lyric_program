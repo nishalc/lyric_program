{
 "cells": [
  {
   "cell_type": "code",
   "execution_count": 19,
   "metadata": {},
   "outputs": [],
   "source": [
    "%load_ext autoreload\n",
    "%autoreload 2\n",
    "from functions import *"
   ]
  },
  {
   "cell_type": "code",
   "execution_count": 2,
   "metadata": {},
   "outputs": [],
   "source": [
    "test_song = 'https://www.azlyrics.com/lyrics/kanyewest/power.html'\n",
    "test_artist = 'https://www.azlyrics.com/k/killers.html'\n",
    "base_dir = Path(u\"C:/lyric_data\")"
   ]
  },
  {
   "cell_type": "markdown",
   "metadata": {},
   "source": [
    "## testing"
   ]
  },
  {
   "cell_type": "markdown",
   "metadata": {},
   "source": [
    "### Proxy testing"
   ]
  },
  {
   "cell_type": "code",
   "execution_count": 6,
   "metadata": {},
   "outputs": [],
   "source": [
    "proxies_good = open(\"proxies_good.txt\", \"r\").read().strip().split(\"\\n\")"
   ]
  },
  {
   "cell_type": "code",
   "execution_count": 12,
   "metadata": {},
   "outputs": [],
   "source": [
    "headers = {'User-Agent': 'Mozilla/5.0 (Macintosh; Intel Mac OS X 10_15_7) AppleWebKit/537.36 (KHTML, like Gecko) Chrome/109.0.0.0 Safari/537.36',\n",
    " 'Accept': 'text/html,application/xhtml+xml,application/xml;q=0.9,image/avif,image/webp,image/apng,*/*;q=0.8,application/signed-exchange;v=b3;q=0.9',\n",
    " 'Accept-Language': 'en-US,en;q=0.9',\n",
    " 'Accept-Encoding': 'gzip, deflate, br'}"
   ]
  },
  {
   "cell_type": "code",
   "execution_count": 13,
   "metadata": {},
   "outputs": [],
   "source": [
    "import requests\n",
    "response = requests.get(\"https://www.azlyrics.com/lyrics/kanyewest/power.html\", headers=headers, timeout=30)"
   ]
  },
  {
   "cell_type": "code",
   "execution_count": 16,
   "metadata": {},
   "outputs": [
    {
     "data": {
      "text/plain": [
       "b'<!DOCTYPE html>\\r\\n<html lang=\"en\">\\r\\n  <head>\\r\\n    <meta charset=\"utf-8\">\\r\\n    <meta http-equiv=\"X-UA-Compatible\" content=\"IE=edge\">\\r\\n    <meta name=\"viewport\" content=\"width=device-width, initial-scale=1\">\\r\\n    <meta name=\"robots\" content=\"noindex,nofollow\">\\r\\n    <title>AZLyrics - request for access</title>\\r\\n\\r\\n\\t<link rel=\"stylesheet\" href=\"https://maxcdn.bootstrapcdn.com/bootstrap/3.3.7/css/bootstrap.min.css\" integrity=\"sha384-BVYiiSIFeK1dGmJRAkycuHAHRg32OmUcww7on3RYdg4Va+PmSTsz/K68vbdEjh4u\" crossorigin=\"anonymous\">\\r\\n\\t<link rel=\"stylesheet\" href=\"https://code.jquery.com/ui/1.12.1/themes/base/jquery-ui.min.css\">\\r\\n\\t<link rel=\"stylesheet\" href=\"/bsaz.css\">\\r\\n\\r\\n    <!-- HTML5 shim and Respond.js for IE8 support of HTML5 elements and media queries -->\\r\\n    <!--[if lt IE 9]>\\r\\n      <script src=\"https://oss.maxcdn.com/html5shiv/3.7.2/html5shiv.min.js\"></script>\\r\\n      <script src=\"https://oss.maxcdn.com/respond/1.4.2/respond.min.js\"></script>\\r\\n    <![endif]-->\\r\\n    \\r\\n\\t<script src=\"https://code.jquery.com/jquery-1.12.4.min.js\" integrity=\"sha256-ZosEbRLbNQzLpnKIkEdrPv7lOy9C27hHQ+Xp8a4MxAQ=\" crossorigin=\"anonymous\"></script>\\r\\n\\t<script src=\"https://code.jquery.com/ui/1.12.1/jquery-ui.min.js\"></script>\\r\\n\\t<script src=\"https://maxcdn.bootstrapcdn.com/bootstrap/3.3.7/js/bootstrap.min.js\" integrity=\"sha384-Tc5IQib027qvyjSMfHjOMaLkfuWVxZxUPnCJA7l2mCWNIpG9mGCD8wGNIcPD7Txa\" crossorigin=\"anonymous\"></script>\\r\\n\\r\\n    <script type=\"text/javascript\">\\r\\n    <!-- \\r\\n      if (top.location != self.location) {\\r\\n      top.location = self.location.href\\r\\n     }\\r\\n    //--> \\r\\n    function az_recaptcha_success(){\\r\\n        document.getElementById(\"az_unblock\").submit();\\r\\n    }\\r\\n    var az_recaptcha_to;\\r\\n    function az_recaptcha_loaded() {\\r\\n        if(az_recaptcha_to) {\\r\\n            clearTimeout(az_recaptcha_to);\\r\\n            document.getElementById(\"az_unblock_loader\").style.display=\\'none\\';\\r\\n            document.getElementById(\"az_captcha_container\").style.display=\\'none\\';\\r\\n            document.getElementById(\"az_unblock_container\").style.display=\\'block\\';\\r\\n        }\\r\\n    }\\r\\n    function az_captcha_show_our(){\\r\\n        var el_captcha_our = document.getElementById(\"az_captcha_our\");\\r\\n        if(el_captcha_our) {\\r\\n            document.getElementById(\"az_unblock_loader\").style.display=\\'none\\';\\r\\n            document.getElementById(\"az_unblock_container\").style.display=\\'none\\';\\r\\n            document.getElementById(\"az_captcha_container\").style.display=\\'block\\';\\r\\n            document.getElementById(\"az_captcha_our\").innerHTML = \\'<img src=\"/cimg.php?\\' + Math.random() + \\'\" /><br />\\';\\r\\n        }\\r\\n    }\\r\\n    az_recaptcha_to = setTimeout(az_captcha_show_our, 12000);\\r\\n    </script>\\r\\n    \\r\\n    <script src=\"https://www.google.com/recaptcha/api.js?onload=az_recaptcha_loaded\" async defer></script>\\r\\n\\r\\n  </head>\\r\\n\\t  <body>\\r\\n\\r\\n  <nav class=\"navbar navbar-default navbar-static-top text-center\">\\r\\n  <div class=\"container text-center\">\\r\\n    <div class=\"navbar-header\" style=\"float:none; display:inline-block;\">\\r\\n      <a class=\"navbar-brand\" href=\"https://www.azlyrics.com\"><img alt=\"AZLyrics.com\" class=\"pull-left\" style=\"max-height:40px; margin-top:-10px;\" src=\"/az_logo_tr.png\"></a>\\r\\n    </div>\\r\\n  </div><!-- /.container -->\\r\\n  </nav>\\r\\n\\r\\n<!-- top ban -->\\r\\n<!--  <div class=\"lboard-wrap\">\\r\\n  <div class=\"container\">\\r\\n    <div class=\"row\">\\r\\n       <div class=\"col-xs-12 top-ad text-center\">\\r\\n         <span id=\"cf_banner_top_nofc\"></span>\\r\\n       </div>\\r\\n    </div>\\r\\n  </div>\\r\\n  </div> -->\\r\\n\\r\\n<!-- main -->\\r\\n  <div class=\"container main-page\">\\r\\n  <div class=\"row\">\\r\\n  <div class=\"col-xs-12 col-sm-10 col-sm-offset-1 col-md-8 col-md-offset-2 text-center\">\\r\\n            <div class=\"alert alert-danger\" role=\"alert\">\\r\\n                Access denied.\\r\\n            </div>\\r\\n</div>\\r\\n</div>\\r\\n\\r\\n             </div>\\r\\n    </div>\\r\\n  </div>  <!-- container main-page -->\\r\\n\\r\\n<!-- bot ban -->\\r\\n  <!--<div class=\"lboard-wrap\">\\r\\n  <div class=\"container\">\\r\\n    <div class=\"row\">\\r\\n       <div class=\"col-xs-12 top-ad text-center\">\\r\\n          <span id=\"cf_banner_bottom\"></span>\\r\\n       </div>\\r\\n    </div>\\r\\n  </div>\\r\\n  </div>-->\\r\\n\\r\\n<!-- footer -->\\r\\n     <!--<nav class=\"navbar navbar-footer\">\\r\\n          <div class=\"container text-center\">\\r\\n          <ul class=\"nav navbar-nav navbar-center\">\\r\\n            <li><a href=\"//www.azlyrics.com/adv.html\">Advertise Here</a></li>\\r\\n            <li><a href=\"//www.azlyrics.com/privacy.html\">Privacy Policy</a></li>\\r\\n            <li><a href=\"//www.azlyrics.com/cookie.html\">Cookie Policy</a></li>\\r\\n            <li><a href=\"//www.azlyrics.com/copyright.html\">DMCA Policy</a></li>\\r\\n          </ul>\\r\\n          </div> \\r\\n     </nav>-->\\r\\n     <div class=\"footer-wrap\">\\r\\n          <div class=\"container\">\\r\\n          <small>\\r\\n             <script type=\"text/javascript\">\\r\\n                curdate=new Date();\\r\\n                document.write(\"<strong>Copyright &copy; 2000-\"+curdate.getFullYear()+\" AZLyrics.com<\\\\/strong>\");\\r\\n             </script>\\r\\n          </small>\\r\\n          </div>\\r\\n     </div>\\r\\n  </body>\\r\\n</html>\\r\\n'"
      ]
     },
     "execution_count": 16,
     "metadata": {},
     "output_type": "execute_result"
    }
   ],
   "source": [
    "response.content"
   ]
  },
  {
   "cell_type": "code",
   "execution_count": 17,
   "metadata": {},
   "outputs": [],
   "source": [
    "from bs4 import BeautifulSoup \n",
    "soup = BeautifulSoup(response.content, 'html.parser')"
   ]
  },
  {
   "cell_type": "code",
   "execution_count": null,
   "metadata": {},
   "outputs": [],
   "source": [
    "url = \"https://www.azlyrics.com/lyrics/kanyewest/power.html\"\n",
    "response = requests.post(url, proxies=proxies)"
   ]
  },
  {
   "cell_type": "code",
   "execution_count": 30,
   "metadata": {},
   "outputs": [
    {
     "ename": "TypeError",
     "evalue": "Request.__init__() got an unexpected keyword argument 'proxies'",
     "output_type": "error",
     "traceback": [
      "\u001b[1;31m---------------------------------------------------------------------------\u001b[0m",
      "\u001b[1;31mTypeError\u001b[0m                                 Traceback (most recent call last)",
      "\u001b[1;32mc:\\Users\\Nisha\\OneDrive\\Python\\Lyric matching program\\development.ipynb Cell 10'\u001b[0m in \u001b[0;36m<cell line: 1>\u001b[1;34m()\u001b[0m\n\u001b[1;32m----> <a href='vscode-notebook-cell:/c%3A/Users/Nisha/OneDrive/Python/Lyric%20matching%20program/development.ipynb#ch0000046?line=0'>1</a>\u001b[0m req \u001b[39m=\u001b[39m urllib\u001b[39m.\u001b[39;49mrequest\u001b[39m.\u001b[39;49mRequest(\u001b[39m\"\u001b[39;49m\u001b[39mhttps://www.azlyrics.com/lyrics/kanyewest/power.html\u001b[39;49m\u001b[39m\"\u001b[39;49m, headers\u001b[39m=\u001b[39;49mheaders, proxies\u001b[39m=\u001b[39;49m{\u001b[39m'\u001b[39;49m\u001b[39mhttp\u001b[39;49m\u001b[39m'\u001b[39;49m: \u001b[39m\"\u001b[39;49m\u001b[39m44.219.175.186:80\u001b[39;49m\u001b[39m\"\u001b[39;49m})\n\u001b[0;32m      <a href='vscode-notebook-cell:/c%3A/Users/Nisha/OneDrive/Python/Lyric%20matching%20program/development.ipynb#ch0000046?line=1'>2</a>\u001b[0m response_test \u001b[39m=\u001b[39m urllib\u001b[39m.\u001b[39mrequest\u001b[39m.\u001b[39murlopen(req)\n",
      "\u001b[1;31mTypeError\u001b[0m: Request.__init__() got an unexpected keyword argument 'proxies'"
     ]
    }
   ],
   "source": [
    "req = urllib.request.Request(\"https://www.azlyrics.com/lyrics/kanyewest/power.html\", headers=headers, proxies={'http': \"44.219.175.186:80\"})\n",
    "response_test = urllib.request.urlopen(req)"
   ]
  },
  {
   "cell_type": "code",
   "execution_count": 23,
   "metadata": {},
   "outputs": [],
   "source": [
    "lyrics_html = (soup.find_all('div', class_=''))\n",
    "#lyrics_raw = lyrics_html[4].get_text().lower()"
   ]
  },
  {
   "cell_type": "code",
   "execution_count": 24,
   "metadata": {},
   "outputs": [
    {
     "data": {
      "text/plain": [
       "[]"
      ]
     },
     "execution_count": 24,
     "metadata": {},
     "output_type": "execute_result"
    }
   ],
   "source": [
    "lyrics_html"
   ]
  },
  {
   "cell_type": "code",
   "execution_count": 20,
   "metadata": {},
   "outputs": [
    {
     "ename": "IndexError",
     "evalue": "list index out of range",
     "output_type": "error",
     "traceback": [
      "\u001b[1;31m---------------------------------------------------------------------------\u001b[0m",
      "\u001b[1;31mIndexError\u001b[0m                                Traceback (most recent call last)",
      "\u001b[1;32mc:\\Users\\Nisha\\OneDrive\\Python\\Lyric matching program\\development.ipynb Cell 10'\u001b[0m in \u001b[0;36m<cell line: 1>\u001b[1;34m()\u001b[0m\n\u001b[1;32m----> <a href='vscode-notebook-cell:/c%3A/Users/Nisha/OneDrive/Python/Lyric%20matching%20program/development.ipynb#ch0000041?line=0'>1</a>\u001b[0m soup_to_lyrics(soup)\n",
      "File \u001b[1;32mc:\\Users\\Nisha\\OneDrive\\Python\\Lyric matching program\\functions.py:20\u001b[0m, in \u001b[0;36msoup_to_lyrics\u001b[1;34m(soup)\u001b[0m\n\u001b[0;32m     <a href='file:///c%3A/Users/Nisha/OneDrive/Python/Lyric%20matching%20program/functions.py?line=17'>18</a>\u001b[0m \u001b[39mdef\u001b[39;00m \u001b[39msoup_to_lyrics\u001b[39m(soup):\n\u001b[0;32m     <a href='file:///c%3A/Users/Nisha/OneDrive/Python/Lyric%20matching%20program/functions.py?line=18'>19</a>\u001b[0m     lyrics_html \u001b[39m=\u001b[39m (soup\u001b[39m.\u001b[39mfind_all(\u001b[39m'\u001b[39m\u001b[39mdiv\u001b[39m\u001b[39m'\u001b[39m, class_\u001b[39m=\u001b[39m\u001b[39m'\u001b[39m\u001b[39m'\u001b[39m))\n\u001b[1;32m---> <a href='file:///c%3A/Users/Nisha/OneDrive/Python/Lyric%20matching%20program/functions.py?line=19'>20</a>\u001b[0m     lyrics_raw \u001b[39m=\u001b[39m lyrics_html[\u001b[39m4\u001b[39;49m]\u001b[39m.\u001b[39mget_text()\u001b[39m.\u001b[39mlower()\n\u001b[0;32m     <a href='file:///c%3A/Users/Nisha/OneDrive/Python/Lyric%20matching%20program/functions.py?line=20'>21</a>\u001b[0m     \u001b[39m# gets rid of anything in brackets, because they are markers that say who is singing\u001b[39;00m\n\u001b[0;32m     <a href='file:///c%3A/Users/Nisha/OneDrive/Python/Lyric%20matching%20program/functions.py?line=21'>22</a>\u001b[0m     lyrics_raw \u001b[39m=\u001b[39m re\u001b[39m.\u001b[39msub(\u001b[39m\"\u001b[39m\u001b[39m[\u001b[39m\u001b[39m\\\u001b[39m\u001b[39m(\u001b[39m\u001b[39m\\\u001b[39m\u001b[39m[].*?[\u001b[39m\u001b[39m\\\u001b[39m\u001b[39m)\u001b[39m\u001b[39m\\\u001b[39m\u001b[39m]]\u001b[39m\u001b[39m\"\u001b[39m, \u001b[39m\"\u001b[39m\u001b[39m\"\u001b[39m, lyrics_raw) \n",
      "\u001b[1;31mIndexError\u001b[0m: list index out of range"
     ]
    }
   ],
   "source": [
    "soup_to_lyrics(soup)"
   ]
  },
  {
   "cell_type": "code",
   "execution_count": 11,
   "metadata": {},
   "outputs": [
    {
     "ename": "HTTPError",
     "evalue": "HTTP Error 301: The HTTP server returned a redirect error that would lead to an infinite loop.\nThe last 30x error message was:\nMoved Permanently",
     "output_type": "error",
     "traceback": [
      "\u001b[1;31m---------------------------------------------------------------------------\u001b[0m",
      "\u001b[1;31mHTTPError\u001b[0m                                 Traceback (most recent call last)",
      "\u001b[1;32mc:\\Users\\Nisha\\OneDrive\\Python\\Lyric matching program\\development.ipynb Cell 8'\u001b[0m in \u001b[0;36m<cell line: 3>\u001b[1;34m()\u001b[0m\n\u001b[0;32m      <a href='vscode-notebook-cell:/c%3A/Users/Nisha/OneDrive/Python/Lyric%20matching%20program/development.ipynb#ch0000038?line=0'>1</a>\u001b[0m \u001b[39mimport\u001b[39;00m \u001b[39murllib\u001b[39;00m\u001b[39m.\u001b[39;00m\u001b[39mrequest\u001b[39;00m\n\u001b[0;32m      <a href='vscode-notebook-cell:/c%3A/Users/Nisha/OneDrive/Python/Lyric%20matching%20program/development.ipynb#ch0000038?line=1'>2</a>\u001b[0m req \u001b[39m=\u001b[39m urllib\u001b[39m.\u001b[39mrequest\u001b[39m.\u001b[39mRequest(\u001b[39m\"\u001b[39m\u001b[39mhttps://www.azlyrics.com/lyrics/kanyewest/power.html\u001b[39m\u001b[39m\"\u001b[39m, headers\u001b[39m=\u001b[39mheaders)\n\u001b[1;32m----> <a href='vscode-notebook-cell:/c%3A/Users/Nisha/OneDrive/Python/Lyric%20matching%20program/development.ipynb#ch0000038?line=2'>3</a>\u001b[0m thepage \u001b[39m=\u001b[39m urllib\u001b[39m.\u001b[39;49mrequest\u001b[39m.\u001b[39;49murlopen(req)\n\u001b[0;32m      <a href='vscode-notebook-cell:/c%3A/Users/Nisha/OneDrive/Python/Lyric%20matching%20program/development.ipynb#ch0000038?line=3'>4</a>\u001b[0m soup \u001b[39m=\u001b[39m BeautifulSoup(thepage, \u001b[39m'\u001b[39m\u001b[39mhtml.parser\u001b[39m\u001b[39m'\u001b[39m)\n",
      "File \u001b[1;32mC:\\Program Files\\Python310\\lib\\urllib\\request.py:216\u001b[0m, in \u001b[0;36murlopen\u001b[1;34m(url, data, timeout, cafile, capath, cadefault, context)\u001b[0m\n\u001b[0;32m    <a href='file:///c%3A/Program%20Files/Python310/lib/urllib/request.py?line=213'>214</a>\u001b[0m \u001b[39melse\u001b[39;00m:\n\u001b[0;32m    <a href='file:///c%3A/Program%20Files/Python310/lib/urllib/request.py?line=214'>215</a>\u001b[0m     opener \u001b[39m=\u001b[39m _opener\n\u001b[1;32m--> <a href='file:///c%3A/Program%20Files/Python310/lib/urllib/request.py?line=215'>216</a>\u001b[0m \u001b[39mreturn\u001b[39;00m opener\u001b[39m.\u001b[39;49mopen(url, data, timeout)\n",
      "File \u001b[1;32mC:\\Program Files\\Python310\\lib\\urllib\\request.py:525\u001b[0m, in \u001b[0;36mOpenerDirector.open\u001b[1;34m(self, fullurl, data, timeout)\u001b[0m\n\u001b[0;32m    <a href='file:///c%3A/Program%20Files/Python310/lib/urllib/request.py?line=522'>523</a>\u001b[0m \u001b[39mfor\u001b[39;00m processor \u001b[39min\u001b[39;00m \u001b[39mself\u001b[39m\u001b[39m.\u001b[39mprocess_response\u001b[39m.\u001b[39mget(protocol, []):\n\u001b[0;32m    <a href='file:///c%3A/Program%20Files/Python310/lib/urllib/request.py?line=523'>524</a>\u001b[0m     meth \u001b[39m=\u001b[39m \u001b[39mgetattr\u001b[39m(processor, meth_name)\n\u001b[1;32m--> <a href='file:///c%3A/Program%20Files/Python310/lib/urllib/request.py?line=524'>525</a>\u001b[0m     response \u001b[39m=\u001b[39m meth(req, response)\n\u001b[0;32m    <a href='file:///c%3A/Program%20Files/Python310/lib/urllib/request.py?line=526'>527</a>\u001b[0m \u001b[39mreturn\u001b[39;00m response\n",
      "File \u001b[1;32mC:\\Program Files\\Python310\\lib\\urllib\\request.py:634\u001b[0m, in \u001b[0;36mHTTPErrorProcessor.http_response\u001b[1;34m(self, request, response)\u001b[0m\n\u001b[0;32m    <a href='file:///c%3A/Program%20Files/Python310/lib/urllib/request.py?line=630'>631</a>\u001b[0m \u001b[39m# According to RFC 2616, \"2xx\" code indicates that the client's\u001b[39;00m\n\u001b[0;32m    <a href='file:///c%3A/Program%20Files/Python310/lib/urllib/request.py?line=631'>632</a>\u001b[0m \u001b[39m# request was successfully received, understood, and accepted.\u001b[39;00m\n\u001b[0;32m    <a href='file:///c%3A/Program%20Files/Python310/lib/urllib/request.py?line=632'>633</a>\u001b[0m \u001b[39mif\u001b[39;00m \u001b[39mnot\u001b[39;00m (\u001b[39m200\u001b[39m \u001b[39m<\u001b[39m\u001b[39m=\u001b[39m code \u001b[39m<\u001b[39m \u001b[39m300\u001b[39m):\n\u001b[1;32m--> <a href='file:///c%3A/Program%20Files/Python310/lib/urllib/request.py?line=633'>634</a>\u001b[0m     response \u001b[39m=\u001b[39m \u001b[39mself\u001b[39;49m\u001b[39m.\u001b[39;49mparent\u001b[39m.\u001b[39;49merror(\n\u001b[0;32m    <a href='file:///c%3A/Program%20Files/Python310/lib/urllib/request.py?line=634'>635</a>\u001b[0m         \u001b[39m'\u001b[39;49m\u001b[39mhttp\u001b[39;49m\u001b[39m'\u001b[39;49m, request, response, code, msg, hdrs)\n\u001b[0;32m    <a href='file:///c%3A/Program%20Files/Python310/lib/urllib/request.py?line=636'>637</a>\u001b[0m \u001b[39mreturn\u001b[39;00m response\n",
      "File \u001b[1;32mC:\\Program Files\\Python310\\lib\\urllib\\request.py:557\u001b[0m, in \u001b[0;36mOpenerDirector.error\u001b[1;34m(self, proto, *args)\u001b[0m\n\u001b[0;32m    <a href='file:///c%3A/Program%20Files/Python310/lib/urllib/request.py?line=554'>555</a>\u001b[0m     http_err \u001b[39m=\u001b[39m \u001b[39m0\u001b[39m\n\u001b[0;32m    <a href='file:///c%3A/Program%20Files/Python310/lib/urllib/request.py?line=555'>556</a>\u001b[0m args \u001b[39m=\u001b[39m (\u001b[39mdict\u001b[39m, proto, meth_name) \u001b[39m+\u001b[39m args\n\u001b[1;32m--> <a href='file:///c%3A/Program%20Files/Python310/lib/urllib/request.py?line=556'>557</a>\u001b[0m result \u001b[39m=\u001b[39m \u001b[39mself\u001b[39;49m\u001b[39m.\u001b[39;49m_call_chain(\u001b[39m*\u001b[39;49margs)\n\u001b[0;32m    <a href='file:///c%3A/Program%20Files/Python310/lib/urllib/request.py?line=557'>558</a>\u001b[0m \u001b[39mif\u001b[39;00m result:\n\u001b[0;32m    <a href='file:///c%3A/Program%20Files/Python310/lib/urllib/request.py?line=558'>559</a>\u001b[0m     \u001b[39mreturn\u001b[39;00m result\n",
      "File \u001b[1;32mC:\\Program Files\\Python310\\lib\\urllib\\request.py:496\u001b[0m, in \u001b[0;36mOpenerDirector._call_chain\u001b[1;34m(self, chain, kind, meth_name, *args)\u001b[0m\n\u001b[0;32m    <a href='file:///c%3A/Program%20Files/Python310/lib/urllib/request.py?line=493'>494</a>\u001b[0m \u001b[39mfor\u001b[39;00m handler \u001b[39min\u001b[39;00m handlers:\n\u001b[0;32m    <a href='file:///c%3A/Program%20Files/Python310/lib/urllib/request.py?line=494'>495</a>\u001b[0m     func \u001b[39m=\u001b[39m \u001b[39mgetattr\u001b[39m(handler, meth_name)\n\u001b[1;32m--> <a href='file:///c%3A/Program%20Files/Python310/lib/urllib/request.py?line=495'>496</a>\u001b[0m     result \u001b[39m=\u001b[39m func(\u001b[39m*\u001b[39;49margs)\n\u001b[0;32m    <a href='file:///c%3A/Program%20Files/Python310/lib/urllib/request.py?line=496'>497</a>\u001b[0m     \u001b[39mif\u001b[39;00m result \u001b[39mis\u001b[39;00m \u001b[39mnot\u001b[39;00m \u001b[39mNone\u001b[39;00m:\n\u001b[0;32m    <a href='file:///c%3A/Program%20Files/Python310/lib/urllib/request.py?line=497'>498</a>\u001b[0m         \u001b[39mreturn\u001b[39;00m result\n",
      "File \u001b[1;32mC:\\Program Files\\Python310\\lib\\urllib\\request.py:749\u001b[0m, in \u001b[0;36mHTTPRedirectHandler.http_error_302\u001b[1;34m(self, req, fp, code, msg, headers)\u001b[0m\n\u001b[0;32m    <a href='file:///c%3A/Program%20Files/Python310/lib/urllib/request.py?line=745'>746</a>\u001b[0m fp\u001b[39m.\u001b[39mread()\n\u001b[0;32m    <a href='file:///c%3A/Program%20Files/Python310/lib/urllib/request.py?line=746'>747</a>\u001b[0m fp\u001b[39m.\u001b[39mclose()\n\u001b[1;32m--> <a href='file:///c%3A/Program%20Files/Python310/lib/urllib/request.py?line=748'>749</a>\u001b[0m \u001b[39mreturn\u001b[39;00m \u001b[39mself\u001b[39;49m\u001b[39m.\u001b[39;49mparent\u001b[39m.\u001b[39;49mopen(new, timeout\u001b[39m=\u001b[39;49mreq\u001b[39m.\u001b[39;49mtimeout)\n",
      "File \u001b[1;32mC:\\Program Files\\Python310\\lib\\urllib\\request.py:525\u001b[0m, in \u001b[0;36mOpenerDirector.open\u001b[1;34m(self, fullurl, data, timeout)\u001b[0m\n\u001b[0;32m    <a href='file:///c%3A/Program%20Files/Python310/lib/urllib/request.py?line=522'>523</a>\u001b[0m \u001b[39mfor\u001b[39;00m processor \u001b[39min\u001b[39;00m \u001b[39mself\u001b[39m\u001b[39m.\u001b[39mprocess_response\u001b[39m.\u001b[39mget(protocol, []):\n\u001b[0;32m    <a href='file:///c%3A/Program%20Files/Python310/lib/urllib/request.py?line=523'>524</a>\u001b[0m     meth \u001b[39m=\u001b[39m \u001b[39mgetattr\u001b[39m(processor, meth_name)\n\u001b[1;32m--> <a href='file:///c%3A/Program%20Files/Python310/lib/urllib/request.py?line=524'>525</a>\u001b[0m     response \u001b[39m=\u001b[39m meth(req, response)\n\u001b[0;32m    <a href='file:///c%3A/Program%20Files/Python310/lib/urllib/request.py?line=526'>527</a>\u001b[0m \u001b[39mreturn\u001b[39;00m response\n",
      "File \u001b[1;32mC:\\Program Files\\Python310\\lib\\urllib\\request.py:634\u001b[0m, in \u001b[0;36mHTTPErrorProcessor.http_response\u001b[1;34m(self, request, response)\u001b[0m\n\u001b[0;32m    <a href='file:///c%3A/Program%20Files/Python310/lib/urllib/request.py?line=630'>631</a>\u001b[0m \u001b[39m# According to RFC 2616, \"2xx\" code indicates that the client's\u001b[39;00m\n\u001b[0;32m    <a href='file:///c%3A/Program%20Files/Python310/lib/urllib/request.py?line=631'>632</a>\u001b[0m \u001b[39m# request was successfully received, understood, and accepted.\u001b[39;00m\n\u001b[0;32m    <a href='file:///c%3A/Program%20Files/Python310/lib/urllib/request.py?line=632'>633</a>\u001b[0m \u001b[39mif\u001b[39;00m \u001b[39mnot\u001b[39;00m (\u001b[39m200\u001b[39m \u001b[39m<\u001b[39m\u001b[39m=\u001b[39m code \u001b[39m<\u001b[39m \u001b[39m300\u001b[39m):\n\u001b[1;32m--> <a href='file:///c%3A/Program%20Files/Python310/lib/urllib/request.py?line=633'>634</a>\u001b[0m     response \u001b[39m=\u001b[39m \u001b[39mself\u001b[39;49m\u001b[39m.\u001b[39;49mparent\u001b[39m.\u001b[39;49merror(\n\u001b[0;32m    <a href='file:///c%3A/Program%20Files/Python310/lib/urllib/request.py?line=634'>635</a>\u001b[0m         \u001b[39m'\u001b[39;49m\u001b[39mhttp\u001b[39;49m\u001b[39m'\u001b[39;49m, request, response, code, msg, hdrs)\n\u001b[0;32m    <a href='file:///c%3A/Program%20Files/Python310/lib/urllib/request.py?line=636'>637</a>\u001b[0m \u001b[39mreturn\u001b[39;00m response\n",
      "File \u001b[1;32mC:\\Program Files\\Python310\\lib\\urllib\\request.py:557\u001b[0m, in \u001b[0;36mOpenerDirector.error\u001b[1;34m(self, proto, *args)\u001b[0m\n\u001b[0;32m    <a href='file:///c%3A/Program%20Files/Python310/lib/urllib/request.py?line=554'>555</a>\u001b[0m     http_err \u001b[39m=\u001b[39m \u001b[39m0\u001b[39m\n\u001b[0;32m    <a href='file:///c%3A/Program%20Files/Python310/lib/urllib/request.py?line=555'>556</a>\u001b[0m args \u001b[39m=\u001b[39m (\u001b[39mdict\u001b[39m, proto, meth_name) \u001b[39m+\u001b[39m args\n\u001b[1;32m--> <a href='file:///c%3A/Program%20Files/Python310/lib/urllib/request.py?line=556'>557</a>\u001b[0m result \u001b[39m=\u001b[39m \u001b[39mself\u001b[39;49m\u001b[39m.\u001b[39;49m_call_chain(\u001b[39m*\u001b[39;49margs)\n\u001b[0;32m    <a href='file:///c%3A/Program%20Files/Python310/lib/urllib/request.py?line=557'>558</a>\u001b[0m \u001b[39mif\u001b[39;00m result:\n\u001b[0;32m    <a href='file:///c%3A/Program%20Files/Python310/lib/urllib/request.py?line=558'>559</a>\u001b[0m     \u001b[39mreturn\u001b[39;00m result\n",
      "File \u001b[1;32mC:\\Program Files\\Python310\\lib\\urllib\\request.py:496\u001b[0m, in \u001b[0;36mOpenerDirector._call_chain\u001b[1;34m(self, chain, kind, meth_name, *args)\u001b[0m\n\u001b[0;32m    <a href='file:///c%3A/Program%20Files/Python310/lib/urllib/request.py?line=493'>494</a>\u001b[0m \u001b[39mfor\u001b[39;00m handler \u001b[39min\u001b[39;00m handlers:\n\u001b[0;32m    <a href='file:///c%3A/Program%20Files/Python310/lib/urllib/request.py?line=494'>495</a>\u001b[0m     func \u001b[39m=\u001b[39m \u001b[39mgetattr\u001b[39m(handler, meth_name)\n\u001b[1;32m--> <a href='file:///c%3A/Program%20Files/Python310/lib/urllib/request.py?line=495'>496</a>\u001b[0m     result \u001b[39m=\u001b[39m func(\u001b[39m*\u001b[39;49margs)\n\u001b[0;32m    <a href='file:///c%3A/Program%20Files/Python310/lib/urllib/request.py?line=496'>497</a>\u001b[0m     \u001b[39mif\u001b[39;00m result \u001b[39mis\u001b[39;00m \u001b[39mnot\u001b[39;00m \u001b[39mNone\u001b[39;00m:\n\u001b[0;32m    <a href='file:///c%3A/Program%20Files/Python310/lib/urllib/request.py?line=497'>498</a>\u001b[0m         \u001b[39mreturn\u001b[39;00m result\n",
      "File \u001b[1;32mC:\\Program Files\\Python310\\lib\\urllib\\request.py:749\u001b[0m, in \u001b[0;36mHTTPRedirectHandler.http_error_302\u001b[1;34m(self, req, fp, code, msg, headers)\u001b[0m\n\u001b[0;32m    <a href='file:///c%3A/Program%20Files/Python310/lib/urllib/request.py?line=745'>746</a>\u001b[0m fp\u001b[39m.\u001b[39mread()\n\u001b[0;32m    <a href='file:///c%3A/Program%20Files/Python310/lib/urllib/request.py?line=746'>747</a>\u001b[0m fp\u001b[39m.\u001b[39mclose()\n\u001b[1;32m--> <a href='file:///c%3A/Program%20Files/Python310/lib/urllib/request.py?line=748'>749</a>\u001b[0m \u001b[39mreturn\u001b[39;00m \u001b[39mself\u001b[39;49m\u001b[39m.\u001b[39;49mparent\u001b[39m.\u001b[39;49mopen(new, timeout\u001b[39m=\u001b[39;49mreq\u001b[39m.\u001b[39;49mtimeout)\n",
      "    \u001b[1;31m[... skipping similar frames: OpenerDirector._call_chain at line 496 (2 times), OpenerDirector.error at line 557 (2 times), HTTPErrorProcessor.http_response at line 634 (2 times), OpenerDirector.open at line 525 (2 times), HTTPRedirectHandler.http_error_302 at line 749 (1 times)]\u001b[0m\n",
      "File \u001b[1;32mC:\\Program Files\\Python310\\lib\\urllib\\request.py:749\u001b[0m, in \u001b[0;36mHTTPRedirectHandler.http_error_302\u001b[1;34m(self, req, fp, code, msg, headers)\u001b[0m\n\u001b[0;32m    <a href='file:///c%3A/Program%20Files/Python310/lib/urllib/request.py?line=745'>746</a>\u001b[0m fp\u001b[39m.\u001b[39mread()\n\u001b[0;32m    <a href='file:///c%3A/Program%20Files/Python310/lib/urllib/request.py?line=746'>747</a>\u001b[0m fp\u001b[39m.\u001b[39mclose()\n\u001b[1;32m--> <a href='file:///c%3A/Program%20Files/Python310/lib/urllib/request.py?line=748'>749</a>\u001b[0m \u001b[39mreturn\u001b[39;00m \u001b[39mself\u001b[39;49m\u001b[39m.\u001b[39;49mparent\u001b[39m.\u001b[39;49mopen(new, timeout\u001b[39m=\u001b[39;49mreq\u001b[39m.\u001b[39;49mtimeout)\n",
      "File \u001b[1;32mC:\\Program Files\\Python310\\lib\\urllib\\request.py:525\u001b[0m, in \u001b[0;36mOpenerDirector.open\u001b[1;34m(self, fullurl, data, timeout)\u001b[0m\n\u001b[0;32m    <a href='file:///c%3A/Program%20Files/Python310/lib/urllib/request.py?line=522'>523</a>\u001b[0m \u001b[39mfor\u001b[39;00m processor \u001b[39min\u001b[39;00m \u001b[39mself\u001b[39m\u001b[39m.\u001b[39mprocess_response\u001b[39m.\u001b[39mget(protocol, []):\n\u001b[0;32m    <a href='file:///c%3A/Program%20Files/Python310/lib/urllib/request.py?line=523'>524</a>\u001b[0m     meth \u001b[39m=\u001b[39m \u001b[39mgetattr\u001b[39m(processor, meth_name)\n\u001b[1;32m--> <a href='file:///c%3A/Program%20Files/Python310/lib/urllib/request.py?line=524'>525</a>\u001b[0m     response \u001b[39m=\u001b[39m meth(req, response)\n\u001b[0;32m    <a href='file:///c%3A/Program%20Files/Python310/lib/urllib/request.py?line=526'>527</a>\u001b[0m \u001b[39mreturn\u001b[39;00m response\n",
      "File \u001b[1;32mC:\\Program Files\\Python310\\lib\\urllib\\request.py:634\u001b[0m, in \u001b[0;36mHTTPErrorProcessor.http_response\u001b[1;34m(self, request, response)\u001b[0m\n\u001b[0;32m    <a href='file:///c%3A/Program%20Files/Python310/lib/urllib/request.py?line=630'>631</a>\u001b[0m \u001b[39m# According to RFC 2616, \"2xx\" code indicates that the client's\u001b[39;00m\n\u001b[0;32m    <a href='file:///c%3A/Program%20Files/Python310/lib/urllib/request.py?line=631'>632</a>\u001b[0m \u001b[39m# request was successfully received, understood, and accepted.\u001b[39;00m\n\u001b[0;32m    <a href='file:///c%3A/Program%20Files/Python310/lib/urllib/request.py?line=632'>633</a>\u001b[0m \u001b[39mif\u001b[39;00m \u001b[39mnot\u001b[39;00m (\u001b[39m200\u001b[39m \u001b[39m<\u001b[39m\u001b[39m=\u001b[39m code \u001b[39m<\u001b[39m \u001b[39m300\u001b[39m):\n\u001b[1;32m--> <a href='file:///c%3A/Program%20Files/Python310/lib/urllib/request.py?line=633'>634</a>\u001b[0m     response \u001b[39m=\u001b[39m \u001b[39mself\u001b[39;49m\u001b[39m.\u001b[39;49mparent\u001b[39m.\u001b[39;49merror(\n\u001b[0;32m    <a href='file:///c%3A/Program%20Files/Python310/lib/urllib/request.py?line=634'>635</a>\u001b[0m         \u001b[39m'\u001b[39;49m\u001b[39mhttp\u001b[39;49m\u001b[39m'\u001b[39;49m, request, response, code, msg, hdrs)\n\u001b[0;32m    <a href='file:///c%3A/Program%20Files/Python310/lib/urllib/request.py?line=636'>637</a>\u001b[0m \u001b[39mreturn\u001b[39;00m response\n",
      "File \u001b[1;32mC:\\Program Files\\Python310\\lib\\urllib\\request.py:557\u001b[0m, in \u001b[0;36mOpenerDirector.error\u001b[1;34m(self, proto, *args)\u001b[0m\n\u001b[0;32m    <a href='file:///c%3A/Program%20Files/Python310/lib/urllib/request.py?line=554'>555</a>\u001b[0m     http_err \u001b[39m=\u001b[39m \u001b[39m0\u001b[39m\n\u001b[0;32m    <a href='file:///c%3A/Program%20Files/Python310/lib/urllib/request.py?line=555'>556</a>\u001b[0m args \u001b[39m=\u001b[39m (\u001b[39mdict\u001b[39m, proto, meth_name) \u001b[39m+\u001b[39m args\n\u001b[1;32m--> <a href='file:///c%3A/Program%20Files/Python310/lib/urllib/request.py?line=556'>557</a>\u001b[0m result \u001b[39m=\u001b[39m \u001b[39mself\u001b[39;49m\u001b[39m.\u001b[39;49m_call_chain(\u001b[39m*\u001b[39;49margs)\n\u001b[0;32m    <a href='file:///c%3A/Program%20Files/Python310/lib/urllib/request.py?line=557'>558</a>\u001b[0m \u001b[39mif\u001b[39;00m result:\n\u001b[0;32m    <a href='file:///c%3A/Program%20Files/Python310/lib/urllib/request.py?line=558'>559</a>\u001b[0m     \u001b[39mreturn\u001b[39;00m result\n",
      "File \u001b[1;32mC:\\Program Files\\Python310\\lib\\urllib\\request.py:496\u001b[0m, in \u001b[0;36mOpenerDirector._call_chain\u001b[1;34m(self, chain, kind, meth_name, *args)\u001b[0m\n\u001b[0;32m    <a href='file:///c%3A/Program%20Files/Python310/lib/urllib/request.py?line=493'>494</a>\u001b[0m \u001b[39mfor\u001b[39;00m handler \u001b[39min\u001b[39;00m handlers:\n\u001b[0;32m    <a href='file:///c%3A/Program%20Files/Python310/lib/urllib/request.py?line=494'>495</a>\u001b[0m     func \u001b[39m=\u001b[39m \u001b[39mgetattr\u001b[39m(handler, meth_name)\n\u001b[1;32m--> <a href='file:///c%3A/Program%20Files/Python310/lib/urllib/request.py?line=495'>496</a>\u001b[0m     result \u001b[39m=\u001b[39m func(\u001b[39m*\u001b[39;49margs)\n\u001b[0;32m    <a href='file:///c%3A/Program%20Files/Python310/lib/urllib/request.py?line=496'>497</a>\u001b[0m     \u001b[39mif\u001b[39;00m result \u001b[39mis\u001b[39;00m \u001b[39mnot\u001b[39;00m \u001b[39mNone\u001b[39;00m:\n\u001b[0;32m    <a href='file:///c%3A/Program%20Files/Python310/lib/urllib/request.py?line=497'>498</a>\u001b[0m         \u001b[39mreturn\u001b[39;00m result\n",
      "File \u001b[1;32mC:\\Program Files\\Python310\\lib\\urllib\\request.py:738\u001b[0m, in \u001b[0;36mHTTPRedirectHandler.http_error_302\u001b[1;34m(self, req, fp, code, msg, headers)\u001b[0m\n\u001b[0;32m    <a href='file:///c%3A/Program%20Files/Python310/lib/urllib/request.py?line=734'>735</a>\u001b[0m     visited \u001b[39m=\u001b[39m new\u001b[39m.\u001b[39mredirect_dict \u001b[39m=\u001b[39m req\u001b[39m.\u001b[39mredirect_dict\n\u001b[0;32m    <a href='file:///c%3A/Program%20Files/Python310/lib/urllib/request.py?line=735'>736</a>\u001b[0m     \u001b[39mif\u001b[39;00m (visited\u001b[39m.\u001b[39mget(newurl, \u001b[39m0\u001b[39m) \u001b[39m>\u001b[39m\u001b[39m=\u001b[39m \u001b[39mself\u001b[39m\u001b[39m.\u001b[39mmax_repeats \u001b[39mor\u001b[39;00m\n\u001b[0;32m    <a href='file:///c%3A/Program%20Files/Python310/lib/urllib/request.py?line=736'>737</a>\u001b[0m         \u001b[39mlen\u001b[39m(visited) \u001b[39m>\u001b[39m\u001b[39m=\u001b[39m \u001b[39mself\u001b[39m\u001b[39m.\u001b[39mmax_redirections):\n\u001b[1;32m--> <a href='file:///c%3A/Program%20Files/Python310/lib/urllib/request.py?line=737'>738</a>\u001b[0m         \u001b[39mraise\u001b[39;00m HTTPError(req\u001b[39m.\u001b[39mfull_url, code,\n\u001b[0;32m    <a href='file:///c%3A/Program%20Files/Python310/lib/urllib/request.py?line=738'>739</a>\u001b[0m                         \u001b[39mself\u001b[39m\u001b[39m.\u001b[39minf_msg \u001b[39m+\u001b[39m msg, headers, fp)\n\u001b[0;32m    <a href='file:///c%3A/Program%20Files/Python310/lib/urllib/request.py?line=739'>740</a>\u001b[0m \u001b[39melse\u001b[39;00m:\n\u001b[0;32m    <a href='file:///c%3A/Program%20Files/Python310/lib/urllib/request.py?line=740'>741</a>\u001b[0m     visited \u001b[39m=\u001b[39m new\u001b[39m.\u001b[39mredirect_dict \u001b[39m=\u001b[39m req\u001b[39m.\u001b[39mredirect_dict \u001b[39m=\u001b[39m {}\n",
      "\u001b[1;31mHTTPError\u001b[0m: HTTP Error 301: The HTTP server returned a redirect error that would lead to an infinite loop.\nThe last 30x error message was:\nMoved Permanently"
     ]
    }
   ],
   "source": [
    "import urllib.request\n",
    "req = urllib.request.Request(\"https://www.azlyrics.com/lyrics/kanyewest/power.html\", headers=headers)\n",
    "thepage = urllib.request.urlopen(req)\n",
    "soup = BeautifulSoup(thepage, 'html.parser')"
   ]
  },
  {
   "cell_type": "code",
   "execution_count": null,
   "metadata": {},
   "outputs": [],
   "source": [
    "soup = BeautifulSoup(response, 'html.parser')"
   ]
  },
  {
   "cell_type": "markdown",
   "metadata": {},
   "source": [
    "### single song extraction"
   ]
  },
  {
   "cell_type": "code",
   "execution_count": 5,
   "metadata": {},
   "outputs": [],
   "source": [
    "soup_test = url_to_soup(test_song)\n",
    "lyrics_raw = soup_to_lyrics(soup_test)\n",
    "lyrics_tokens = lyrics_raw_to_tokens(lyrics_raw)"
   ]
  },
  {
   "cell_type": "code",
   "execution_count": null,
   "metadata": {},
   "outputs": [],
   "source": [
    "soup_to_lyric_file(soup_test)"
   ]
  },
  {
   "cell_type": "markdown",
   "metadata": {},
   "source": [
    "### artist extraction\n"
   ]
  },
  {
   "cell_type": "code",
   "execution_count": 204,
   "metadata": {},
   "outputs": [
    {
     "name": "stdout",
     "output_type": "stream",
     "text": [
      "Attempting https://www.azlyrics.com/lyrics/justinbieber/onetime.html\n",
      "Scraped 1 of 240 and waiting\n",
      "Attempting https://www.azlyrics.com/lyrics/justinbieber/favoritegirl.html\n",
      "Scraped 2 of 240 and waiting\n",
      "Attempting https://www.azlyrics.com/lyrics/justinbieber/downtoearth.html\n",
      "Scraped 3 of 240 and waiting\n",
      "Attempting https://www.azlyrics.com/lyrics/justinbieber/bigger.html\n",
      "Scraped 4 of 240 and waiting\n",
      "Attempting https://www.azlyrics.com/lyrics/justinbieber/onelesslonelygirl.html\n",
      "Scraped 5 of 240 and waiting\n",
      "Attempting https://www.azlyrics.com/lyrics/justinbieber/firstdance.html\n",
      "Scraped 6 of 240 and waiting\n",
      "Attempting https://www.azlyrics.com/lyrics/justinbieber/loveme.html\n",
      "Scraped 7 of 240 and waiting\n",
      "Attempting https://www.azlyrics.com/lyrics/justinbieber/commondenominator.html\n",
      "Scraped 8 of 240 and waiting\n",
      "Attempting https://www.azlyrics.com/lyrics/justinbieber/onelesslonelygirlfrenchadaptation.html\n"
     ]
    },
    {
     "ename": "IndexError",
     "evalue": "list index out of range",
     "output_type": "error",
     "traceback": [
      "\u001b[1;31m---------------------------------------------------------------------------\u001b[0m",
      "\u001b[1;31mIndexError\u001b[0m                                Traceback (most recent call last)",
      "\u001b[1;32mc:\\Users\\Nisha\\OneDrive\\Python\\Lyric matching program\\development.ipynb Cell 8'\u001b[0m in \u001b[0;36m<cell line: 1>\u001b[1;34m()\u001b[0m\n\u001b[1;32m----> <a href='vscode-notebook-cell:/c%3A/Users/Nisha/OneDrive/Python/Lyric%20matching%20program/development.ipynb#ch0000040?line=0'>1</a>\u001b[0m scrape_artist(\u001b[39m\"\u001b[39;49m\u001b[39mhttps://www.azlyrics.com/j/justinbieber.html\u001b[39;49m\u001b[39m\"\u001b[39;49m, base_dir)\n",
      "File \u001b[1;32mc:\\Users\\Nisha\\OneDrive\\Python\\Lyric matching program\\functions.py:93\u001b[0m, in \u001b[0;36mscrape_artist\u001b[1;34m(artist_url, base_dir, start_indice)\u001b[0m\n\u001b[0;32m     <a href='file:///c%3A/Users/Nisha/OneDrive/Python/Lyric%20matching%20program/functions.py?line=90'>91</a>\u001b[0m \u001b[39mwhile\u001b[39;00m \u001b[39mTrue\u001b[39;00m:\n\u001b[0;32m     <a href='file:///c%3A/Users/Nisha/OneDrive/Python/Lyric%20matching%20program/functions.py?line=91'>92</a>\u001b[0m     \u001b[39mtry\u001b[39;00m:\n\u001b[1;32m---> <a href='file:///c%3A/Users/Nisha/OneDrive/Python/Lyric%20matching%20program/functions.py?line=92'>93</a>\u001b[0m         soup_to_lyric_file(url_to_soup(x), base_dir)\n\u001b[0;32m     <a href='file:///c%3A/Users/Nisha/OneDrive/Python/Lyric%20matching%20program/functions.py?line=93'>94</a>\u001b[0m         sleep_time \u001b[39m=\u001b[39m \u001b[39m1\u001b[39m\u001b[39m#random.randint(1,30)\u001b[39;00m\n\u001b[0;32m     <a href='file:///c%3A/Users/Nisha/OneDrive/Python/Lyric%20matching%20program/functions.py?line=94'>95</a>\u001b[0m         time\u001b[39m.\u001b[39msleep(sleep_time)\n",
      "File \u001b[1;32mc:\\Users\\Nisha\\OneDrive\\Python\\Lyric matching program\\functions.py:56\u001b[0m, in \u001b[0;36msoup_to_lyric_file\u001b[1;34m(soup, base_dir)\u001b[0m\n\u001b[0;32m     <a href='file:///c%3A/Users/Nisha/OneDrive/Python/Lyric%20matching%20program/functions.py?line=54'>55</a>\u001b[0m \u001b[39mdef\u001b[39;00m \u001b[39msoup_to_lyric_file\u001b[39m(soup, base_dir):\n\u001b[1;32m---> <a href='file:///c%3A/Users/Nisha/OneDrive/Python/Lyric%20matching%20program/functions.py?line=55'>56</a>\u001b[0m     lyrics_raw \u001b[39m=\u001b[39m soup_to_lyrics(soup)\n\u001b[0;32m     <a href='file:///c%3A/Users/Nisha/OneDrive/Python/Lyric%20matching%20program/functions.py?line=56'>57</a>\u001b[0m     artist, album, title \u001b[39m=\u001b[39m soup_to_metadata(soup)\n\u001b[0;32m     <a href='file:///c%3A/Users/Nisha/OneDrive/Python/Lyric%20matching%20program/functions.py?line=58'>59</a>\u001b[0m     directory \u001b[39m=\u001b[39m Path(base_dir) \u001b[39m/\u001b[39m artist \u001b[39m/\u001b[39m album\n",
      "File \u001b[1;32mc:\\Users\\Nisha\\OneDrive\\Python\\Lyric matching program\\functions.py:26\u001b[0m, in \u001b[0;36msoup_to_lyrics\u001b[1;34m(soup)\u001b[0m\n\u001b[0;32m     <a href='file:///c%3A/Users/Nisha/OneDrive/Python/Lyric%20matching%20program/functions.py?line=23'>24</a>\u001b[0m \u001b[39mdef\u001b[39;00m \u001b[39msoup_to_lyrics\u001b[39m(soup):\n\u001b[0;32m     <a href='file:///c%3A/Users/Nisha/OneDrive/Python/Lyric%20matching%20program/functions.py?line=24'>25</a>\u001b[0m     lyrics_html \u001b[39m=\u001b[39m (soup\u001b[39m.\u001b[39mfind_all(\u001b[39m'\u001b[39m\u001b[39mdiv\u001b[39m\u001b[39m'\u001b[39m, class_\u001b[39m=\u001b[39m\u001b[39m'\u001b[39m\u001b[39m'\u001b[39m))\n\u001b[1;32m---> <a href='file:///c%3A/Users/Nisha/OneDrive/Python/Lyric%20matching%20program/functions.py?line=25'>26</a>\u001b[0m     lyrics_raw \u001b[39m=\u001b[39m lyrics_html[\u001b[39m4\u001b[39;49m]\u001b[39m.\u001b[39mget_text()\u001b[39m.\u001b[39mlower()\n\u001b[0;32m     <a href='file:///c%3A/Users/Nisha/OneDrive/Python/Lyric%20matching%20program/functions.py?line=26'>27</a>\u001b[0m     \u001b[39m# gets rid of anything in brackets, because they are markers that say who is singing\u001b[39;00m\n\u001b[0;32m     <a href='file:///c%3A/Users/Nisha/OneDrive/Python/Lyric%20matching%20program/functions.py?line=27'>28</a>\u001b[0m     lyrics_raw \u001b[39m=\u001b[39m re\u001b[39m.\u001b[39msub(\u001b[39m\"\u001b[39m\u001b[39m[\u001b[39m\u001b[39m\\\u001b[39m\u001b[39m(\u001b[39m\u001b[39m\\\u001b[39m\u001b[39m[].*?[\u001b[39m\u001b[39m\\\u001b[39m\u001b[39m)\u001b[39m\u001b[39m\\\u001b[39m\u001b[39m]]\u001b[39m\u001b[39m\"\u001b[39m, \u001b[39m\"\u001b[39m\u001b[39m\"\u001b[39m, lyrics_raw) \n",
      "\u001b[1;31mIndexError\u001b[0m: list index out of range"
     ]
    }
   ],
   "source": [
    "scrape_artist(\"https://www.azlyrics.com/j/justinbieber.html\", base_dir)"
   ]
  },
  {
   "cell_type": "code",
   "execution_count": null,
   "metadata": {},
   "outputs": [],
   "source": []
  }
 ],
 "metadata": {
  "interpreter": {
   "hash": "b89b5cfaba6639976dc87ff2fec6d58faec662063367e2c229c520fe71072417"
  },
  "kernelspec": {
   "display_name": "Python 3.10.4 64-bit",
   "language": "python",
   "name": "python3"
  },
  "language_info": {
   "codemirror_mode": {
    "name": "ipython",
    "version": 3
   },
   "file_extension": ".py",
   "mimetype": "text/x-python",
   "name": "python",
   "nbconvert_exporter": "python",
   "pygments_lexer": "ipython3",
   "version": "3.10.4"
  },
  "orig_nbformat": 4
 },
 "nbformat": 4,
 "nbformat_minor": 2
}
